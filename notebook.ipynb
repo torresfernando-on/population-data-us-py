{
 "cells": [
  {
   "cell_type": "code",
   "execution_count": 2,
   "id": "9f8946c7",
   "metadata": {},
   "outputs": [],
   "source": [
    "import pandas as pd\n",
    "import matplotlib.pyplot as plt"
   ]
  },
  {
   "cell_type": "code",
   "execution_count": 3,
   "id": "d3024561",
   "metadata": {},
   "outputs": [
    {
     "name": "stdout",
     "output_type": "stream",
     "text": [
      "   Rank       State Postal  Population\n",
      "0     1     Alabama     AL   4849377.0\n",
      "1     2      Alaska     AK    736732.0\n",
      "2     3     Arizona     AZ   6731484.0\n",
      "3     4    Arkansas     AR   2966369.0\n",
      "4     5  California     CA  38802500.0\n"
     ]
    }
   ],
   "source": [
    "url = \"https://raw.githubusercontent.com/plotly/datasets/master/2014_usa_states.csv\"\n",
    "\n",
    "df = pd.read_csv(url)\n",
    "\n",
    "print(df.head())"
   ]
  },
  {
   "cell_type": "code",
   "execution_count": 4,
   "id": "f8f2e519",
   "metadata": {},
   "outputs": [
    {
     "name": "stdout",
     "output_type": "stream",
     "text": [
      "    Rank                 State Postal  Population\n",
      "0      1               Alabama     AL   4849377.0\n",
      "1      2                Alaska     AK    736732.0\n",
      "2      3               Arizona     AZ   6731484.0\n",
      "3      4              Arkansas     AR   2966369.0\n",
      "4      5            California     CA  38802500.0\n",
      "5      6              Colorado     CO   5355866.0\n",
      "6      7           Connecticut     CT   3596677.0\n",
      "7      8              Delaware     DE    935614.0\n",
      "8      9  District of Columbia     DC    658893.0\n",
      "9     10               Florida     FL  19893297.0\n",
      "10    11               Georgia     GA  10097343.0\n",
      "11    12                Hawaii     HI   1419561.0\n",
      "12    13                 Idaho     ID   1634464.0\n",
      "13    14              Illinois     IL  12880580.0\n",
      "14    15               Indiana     IN   6596855.0\n",
      "15    16                  Iowa     IA   3107126.0\n",
      "16    17                Kansas     KS   2904021.0\n",
      "17    18              Kentucky     KY   4413457.0\n",
      "18    19             Louisiana     LA   4649676.0\n",
      "19    20                 Maine     ME   1330089.0\n",
      "20    21              Maryland     MD   5976407.0\n",
      "21    22         Massachusetts     MA   6745408.0\n",
      "22    23              Michigan     MI   9909877.0\n",
      "23    24             Minnesota     MN   5457173.0\n",
      "24    25           Mississippi     MS   2994079.0\n",
      "25    26              Missouri     MO   6063589.0\n",
      "26    27               Montana     MT   1023579.0\n",
      "27    28              Nebraska     NE   1881503.0\n",
      "28    29                Nevada     NV   2839098.0\n",
      "29    30         New Hampshire     NH   1326813.0\n",
      "30    31            New Jersey     NJ   8938175.0\n",
      "31    32            New Mexico     NM   2085572.0\n",
      "32    33              New York     NY  19746227.0\n",
      "33    34        North Carolina     NC   9943964.0\n",
      "34    35          North Dakota     ND    739482.0\n",
      "35    36                  Ohio     OH  11594163.0\n",
      "36    37              Oklahoma     OK   3878051.0\n",
      "37    38                Oregon     OR   3970239.0\n",
      "38    39          Pennsylvania     PA  12787209.0\n",
      "39    40           Puerto Rico     PR   3548397.0\n",
      "40    41          Rhode Island     RI   1055173.0\n",
      "41    42        South Carolina     SC   4832482.0\n",
      "42    43          South Dakota     SD    853175.0\n",
      "43    44             Tennessee     TN   6549352.0\n",
      "44    45                 Texas     TX  26956958.0\n",
      "45    46                  Utah     UT   2942902.0\n",
      "46    47               Vermont     VT    626562.0\n",
      "47    48              Virginia     VA   8326289.0\n",
      "48    49            Washington     WA   7061530.0\n",
      "49    50         West Virginia     WV   1850326.0\n",
      "50    51             Wisconsin     WI   5757564.0\n",
      "51    52               Wyoming     WY    584153.0\n"
     ]
    }
   ],
   "source": [
    "print(df)"
   ]
  }
 ],
 "metadata": {
  "kernelspec": {
   "display_name": "Python 3",
   "language": "python",
   "name": "python3"
  },
  "language_info": {
   "codemirror_mode": {
    "name": "ipython",
    "version": 3
   },
   "file_extension": ".py",
   "mimetype": "text/x-python",
   "name": "python",
   "nbconvert_exporter": "python",
   "pygments_lexer": "ipython3",
   "version": "3.12.0"
  }
 },
 "nbformat": 4,
 "nbformat_minor": 5
}
